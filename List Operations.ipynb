{
 "cells": [
  {
   "cell_type": "code",
   "execution_count": null,
   "id": "0afbcf56",
   "metadata": {},
   "outputs": [
    {
     "name": "stdout",
     "output_type": "stream",
     "text": [
      "1.Add\n",
      "2.Remove\n",
      "3.Update\n",
      "4.Display\n",
      "5.Clear\n",
      "0.Exit\n",
      "Enter Option: 1\n",
      "Enter Element to add: gds\n",
      "1.Add\n",
      "2.Remove\n",
      "3.Update\n",
      "4.Display\n",
      "5.Clear\n",
      "0.Exit\n",
      "Enter Option: 4\n",
      "['gds']\n"
     ]
    }
   ],
   "source": [
    "#\n",
    "list1 = list([])\n",
    "def add(l):\n",
    "    element = input(\"Enter Element to add: \")\n",
    "    l.append(element)\n",
    "#     display(l)\n",
    "    start()\n",
    "#     print(\"add\")\n",
    "def remover(l):\n",
    "    display(l)\n",
    "    print()\n",
    "    index = int(input(\"Enter Index of Element to remove: \"))\n",
    "    l.pop(index)\n",
    "#     display(l)\n",
    "    start()\n",
    "def update(l):\n",
    "    display(l)\n",
    "    index = int(input(\"Enter Index of Element to remove: \"))\n",
    "    stri = input(\"Enter Element to update: \")\n",
    "    l[index] = stri\n",
    "    display(l)\n",
    "    print()\n",
    "    start()\n",
    "def display(l):\n",
    "    for i in l:\n",
    "        print(\"{}: {}\".format(l.index(i),i))\n",
    "#     print(\"display\")\n",
    "def disp(l):\n",
    "    print(l)\n",
    "def clear(l):\n",
    "    l.clear()\n",
    "def start():\n",
    "    print(\"1.Add\")\n",
    "    print(\"2.Remove\")\n",
    "    print(\"3.Update\")\n",
    "    print(\"4.Display\")\n",
    "    print(\"5.Clear\")\n",
    "    print(\"0.Exit\")\n",
    "    while(True):\n",
    "        usr_inpt = int(input(\"Enter Option: \"))\n",
    "        if(usr_inpt == 1):\n",
    "            add(list1)\n",
    "        elif((usr_inpt == 2)):\n",
    "            remover(list1)\n",
    "        elif((usr_inpt == 3)):\n",
    "            update(list1)\n",
    "        elif((usr_inpt == 4)):\n",
    "            disp(list1)\n",
    "        elif((usr_inpt == 5)):\n",
    "            clear(list1)\n",
    "        elif((usr_inpt == 0)):\n",
    "            print(\"Exiting...\")\n",
    "            break\n",
    "        else:\n",
    "            print(\"Invalid Input\")\n",
    "\n",
    "start()\n",
    "\n",
    "\n",
    "        \n",
    "\n"
   ]
  },
  {
   "cell_type": "code",
   "execution_count": null,
   "id": "f51a2b21",
   "metadata": {},
   "outputs": [],
   "source": []
  },
  {
   "cell_type": "code",
   "execution_count": null,
   "id": "a84d3c2b",
   "metadata": {},
   "outputs": [],
   "source": []
  }
 ],
 "metadata": {
  "kernelspec": {
   "display_name": "Python 3 (ipykernel)",
   "language": "python",
   "name": "python3"
  },
  "language_info": {
   "codemirror_mode": {
    "name": "ipython",
    "version": 3
   },
   "file_extension": ".py",
   "mimetype": "text/x-python",
   "name": "python",
   "nbconvert_exporter": "python",
   "pygments_lexer": "ipython3",
   "version": "3.8.2"
  }
 },
 "nbformat": 4,
 "nbformat_minor": 5
}
