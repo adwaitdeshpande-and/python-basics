{
 "cells": [
  {
   "cell_type": "code",
   "execution_count": null,
   "id": "a07dc47f",
   "metadata": {},
   "outputs": [],
   "source": [
    "# B = (i+j)^2+(p[j]-p[i])^2\n",
    "n = int(input())\n",
    "A = []\n",
    "for _ in range(n):\n",
    "\n"
   ]
  },
  {
   "cell_type": "code",
   "execution_count": 12,
   "id": "381efe07",
   "metadata": {},
   "outputs": [
    {
     "name": "stdout",
     "output_type": "stream",
     "text": [
      "3\n",
      "10\n",
      "20\n",
      "30\n",
      "401\n"
     ]
    }
   ],
   "source": [
    "size = int(input())\n",
    "l = []\n",
    "m = []\n",
    "for i in range(size):\n",
    "    l.append(int(input()))\n",
    "pi=0\n",
    "pj=0\n",
    "for i in range(0,size-1):\n",
    "    pi=pi+l[i]\n",
    "    pj=pj+l[i]\n",
    "    for j in range(i+1,size):\n",
    "        pj = pj + l[j]\n",
    "        d = (j-i)**2+(pj-pi)**2\n",
    "        m.append(d)\n",
    "print(min(m))"
   ]
  },
  {
   "cell_type": "code",
   "execution_count": null,
   "id": "bd8e9c2a",
   "metadata": {},
   "outputs": [],
   "source": [
    "def finalString(N, S, M, A): 3 Write your code here\n",
    "\n",
    "def main():\n",
    "\n",
    "Nint(sys.stdin.readline().strip())\n",
    "\n",
    "\n",
    "\n",
    "5 sys.stdin.reiine().strip(\"\\n\")\n",
    "\n",
    "Mint(sys.stdin.readline().strip())\n",
    "\n",
    "13\n",
    "\n",
    "14\n",
    "\n",
    "15\n",
    "\n",
    "In rogn(70):\n",
    "\n",
    "A.append(int sys.stdin.reniline().strip()))\n",
    "\n",
    "result finalString(H, S, M, A)\n",
    "\n",
    "sint(result)"
   ]
  },
  {
   "cell_type": "code",
   "execution_count": null,
   "id": "8a5384a9",
   "metadata": {},
   "outputs": [],
   "source": [
    "length_string = int(input())\n",
    "actual_string = input()\n",
    "length_array = int(input())\n",
    "actual_array = []\n",
    "\n",
    "for i in range(length_array):\n",
    "    actual_array.append(int(input()))\n",
    "\n",
    "for i in actual_array:\n",
    "    sub_str = actual_string[i-1:length_string-i+1]\n",
    "    sub_str = sub_str[::-1]\n",
    "    if(i==1):\n",
    "        actual_string = sub_str+actual_string[length_string-i+1:]\n",
    "    else:\n",
    "        actual_string = actual_string[0:i-1]+sub_str+actual_string[length_string-i+1:]\n",
    "\n",
    "print(actual_string)"
   ]
  },
  {
   "cell_type": "code",
   "execution_count": 19,
   "id": "013513e3",
   "metadata": {},
   "outputs": [
    {
     "ename": "KeyboardInterrupt",
     "evalue": "Interrupted by user",
     "output_type": "error",
     "traceback": [
      "\u001b[1;31m---------------------------------------------------------------------------\u001b[0m",
      "\u001b[1;31mKeyboardInterrupt\u001b[0m                         Traceback (most recent call last)",
      "\u001b[1;32m~\\AppData\\Local\\Temp/ipykernel_5576/998034971.py\u001b[0m in \u001b[0;36m<module>\u001b[1;34m\u001b[0m\n\u001b[1;32m----> 1\u001b[1;33m \u001b[0mn\u001b[0m \u001b[1;33m=\u001b[0m \u001b[0mint\u001b[0m\u001b[1;33m(\u001b[0m\u001b[0minput\u001b[0m\u001b[1;33m(\u001b[0m\u001b[1;33m)\u001b[0m\u001b[1;33m)\u001b[0m\u001b[1;33m\u001b[0m\u001b[1;33m\u001b[0m\u001b[0m\n\u001b[0m\u001b[0;32m      2\u001b[0m \u001b[0mA\u001b[0m \u001b[1;33m=\u001b[0m \u001b[1;33m[\u001b[0m\u001b[1;33m]\u001b[0m\u001b[1;33m\u001b[0m\u001b[1;33m\u001b[0m\u001b[0m\n\u001b[0;32m      3\u001b[0m \u001b[0mstr1\u001b[0m \u001b[1;33m=\u001b[0m \u001b[1;34m''\u001b[0m\u001b[1;33m\u001b[0m\u001b[1;33m\u001b[0m\u001b[0m\n\u001b[0;32m      4\u001b[0m \u001b[1;32mfor\u001b[0m \u001b[0mi\u001b[0m \u001b[1;32min\u001b[0m \u001b[0mrange\u001b[0m\u001b[1;33m(\u001b[0m\u001b[0mn\u001b[0m\u001b[1;33m)\u001b[0m\u001b[1;33m:\u001b[0m\u001b[1;33m\u001b[0m\u001b[1;33m\u001b[0m\u001b[0m\n\u001b[0;32m      5\u001b[0m     \u001b[0mA\u001b[0m\u001b[1;33m.\u001b[0m\u001b[0mappend\u001b[0m\u001b[1;33m(\u001b[0m\u001b[0minput\u001b[0m\u001b[1;33m(\u001b[0m\u001b[1;33m)\u001b[0m\u001b[1;33m.\u001b[0m\u001b[0msplit\u001b[0m\u001b[1;33m(\u001b[0m\u001b[1;33m)\u001b[0m\u001b[1;33m)\u001b[0m\u001b[1;33m\u001b[0m\u001b[1;33m\u001b[0m\u001b[0m\n",
      "\u001b[1;32m~\\AppData\\Roaming\\Python\\Python38\\site-packages\\ipykernel\\kernelbase.py\u001b[0m in \u001b[0;36mraw_input\u001b[1;34m(self, prompt)\u001b[0m\n\u001b[0;32m   1005\u001b[0m                 \u001b[1;34m\"raw_input was called, but this frontend does not support input requests.\"\u001b[0m\u001b[1;33m\u001b[0m\u001b[1;33m\u001b[0m\u001b[0m\n\u001b[0;32m   1006\u001b[0m             )\n\u001b[1;32m-> 1007\u001b[1;33m         return self._input_request(\n\u001b[0m\u001b[0;32m   1008\u001b[0m             \u001b[0mstr\u001b[0m\u001b[1;33m(\u001b[0m\u001b[0mprompt\u001b[0m\u001b[1;33m)\u001b[0m\u001b[1;33m,\u001b[0m\u001b[1;33m\u001b[0m\u001b[1;33m\u001b[0m\u001b[0m\n\u001b[0;32m   1009\u001b[0m             \u001b[0mself\u001b[0m\u001b[1;33m.\u001b[0m\u001b[0m_parent_ident\u001b[0m\u001b[1;33m[\u001b[0m\u001b[1;34m\"shell\"\u001b[0m\u001b[1;33m]\u001b[0m\u001b[1;33m,\u001b[0m\u001b[1;33m\u001b[0m\u001b[1;33m\u001b[0m\u001b[0m\n",
      "\u001b[1;32m~\\AppData\\Roaming\\Python\\Python38\\site-packages\\ipykernel\\kernelbase.py\u001b[0m in \u001b[0;36m_input_request\u001b[1;34m(self, prompt, ident, parent, password)\u001b[0m\n\u001b[0;32m   1050\u001b[0m             \u001b[1;32mexcept\u001b[0m \u001b[0mKeyboardInterrupt\u001b[0m\u001b[1;33m:\u001b[0m\u001b[1;33m\u001b[0m\u001b[1;33m\u001b[0m\u001b[0m\n\u001b[0;32m   1051\u001b[0m                 \u001b[1;31m# re-raise KeyboardInterrupt, to truncate traceback\u001b[0m\u001b[1;33m\u001b[0m\u001b[1;33m\u001b[0m\u001b[1;33m\u001b[0m\u001b[0m\n\u001b[1;32m-> 1052\u001b[1;33m                 \u001b[1;32mraise\u001b[0m \u001b[0mKeyboardInterrupt\u001b[0m\u001b[1;33m(\u001b[0m\u001b[1;34m\"Interrupted by user\"\u001b[0m\u001b[1;33m)\u001b[0m \u001b[1;32mfrom\u001b[0m \u001b[1;32mNone\u001b[0m\u001b[1;33m\u001b[0m\u001b[1;33m\u001b[0m\u001b[0m\n\u001b[0m\u001b[0;32m   1053\u001b[0m             \u001b[1;32mexcept\u001b[0m \u001b[0mException\u001b[0m\u001b[1;33m:\u001b[0m\u001b[1;33m\u001b[0m\u001b[1;33m\u001b[0m\u001b[0m\n\u001b[0;32m   1054\u001b[0m                 \u001b[0mself\u001b[0m\u001b[1;33m.\u001b[0m\u001b[0mlog\u001b[0m\u001b[1;33m.\u001b[0m\u001b[0mwarning\u001b[0m\u001b[1;33m(\u001b[0m\u001b[1;34m\"Invalid Message:\"\u001b[0m\u001b[1;33m,\u001b[0m \u001b[0mexc_info\u001b[0m\u001b[1;33m=\u001b[0m\u001b[1;32mTrue\u001b[0m\u001b[1;33m)\u001b[0m\u001b[1;33m\u001b[0m\u001b[1;33m\u001b[0m\u001b[0m\n",
      "\u001b[1;31mKeyboardInterrupt\u001b[0m: Interrupted by user"
     ]
    }
   ],
   "source": [
    "n = int(input())\n",
    "A = []\n",
    "str1 = ''\n",
    "for i in range(n):\n",
    "    A.append(input().split())\n",
    "for ele in A:\n",
    "    str1 += ele\n",
    "print(str1)"
   ]
  },
  {
   "cell_type": "code",
   "execution_count": 21,
   "id": "f9168a28",
   "metadata": {},
   "outputs": [
    {
     "name": "stdout",
     "output_type": "stream",
     "text": [
      "9223372036854775809\n"
     ]
    }
   ],
   "source": [
    "# Python3 code to find minimum sum of\n",
    "# two elements chosen from two arrays\n",
    "# such that they are not at same index.\n",
    "import sys\n",
    "\n",
    "# Function which returns minimum sum\n",
    "# of two array elements such that their\n",
    "# indexes arenot same\n",
    "def minSum(a, b, n):\n",
    "\t\n",
    "\t# Finding minimum element in array A\n",
    "\t# and also storing its index value.\n",
    "\tminA = a[0]\n",
    "\tindexA = 0\n",
    "\tfor i in range(1,n):\n",
    "\t\tif a[i] > minA:\n",
    "\t\t\tminA = a[i]\n",
    "\t\t\tindexA = i\n",
    "\t\t\t\n",
    "\t# Finding minimum element in array B\n",
    "\t# and also storing its index value\n",
    "\tminB = b[0]\n",
    "\tindexB = 0\n",
    "\tfor i in range(1, n):\n",
    "\t\tif b[i] > minB:\n",
    "\t\t\tminB = b[i]\n",
    "\t\t\tindexB = i\n",
    "\t\t\t\n",
    "\t# If indexes of minimum elements\n",
    "\t# are not same, return their sum.\n",
    "\tif indexA != indexB:\n",
    "\t\treturn (minA + minB)\n",
    "\t\n",
    "\t# When index of A is not same as\n",
    "\t# previous and value is also less\n",
    "\t# than other minimum. Store new\n",
    "\t# minimum and store its index\n",
    "\tminA2 = sys.maxsize\n",
    "\tindexA2=0\n",
    "\tfor i in range(n):\n",
    "\t\tif i != indexA and a[i] < minA2:\n",
    "\t\t\tminA2 = a[i]\n",
    "\t\t\tindexA2 = i\n",
    "\t\t\t\n",
    "\t# When index of B is not same as\n",
    "\t# previous and value is also less\n",
    "\t# than other minimum. Store new\n",
    "\t# minimum and store its index\n",
    "\tminB2 = sys.maxsize\n",
    "\tindexB2 = 0\n",
    "\tfor i in range(n):\n",
    "\t\tif i != indexB and b[i] < minB2:\n",
    "\t\t\tminB2 = b[i]\n",
    "\t\t\tindexB2 = i\n",
    "\t\n",
    "\t# Taking sum of previous minimum of\n",
    "\t# a[] with new minimum of b[]\n",
    "\t# and also sum of previous minimum\n",
    "\t# of b[] with new minimum of a[]\n",
    "\t# and return whichever is minimum.\n",
    "\treturn min(minB + minA2, minA + minB2)\n",
    "\t\n",
    "# Driver code\n",
    "a = [9]\n",
    "b = [2]\n",
    "n = len(a)\n",
    "print(minSum(a, b, n))\n",
    "\n",
    "# This code is contributed by \"Sharad_Bhardwaj\".\n"
   ]
  },
  {
   "cell_type": "code",
   "execution_count": null,
   "id": "94948de3",
   "metadata": {},
   "outputs": [],
   "source": [
    "row = int(input())\n",
    "column = int(input())\n",
    "k = int(input())\n",
    "\n",
    "a = column//row\n",
    "b = column%row\n",
    "\n",
    "res = (row*(a+1))*b+(rowa)(row-b)\n",
    "\n",
    "print(res%((10**9)+7))"
   ]
  }
 ],
 "metadata": {
  "kernelspec": {
   "display_name": "Python 3 (ipykernel)",
   "language": "python",
   "name": "python3"
  },
  "language_info": {
   "codemirror_mode": {
    "name": "ipython",
    "version": 3
   },
   "file_extension": ".py",
   "mimetype": "text/x-python",
   "name": "python",
   "nbconvert_exporter": "python",
   "pygments_lexer": "ipython3",
   "version": "3.8.2"
  }
 },
 "nbformat": 4,
 "nbformat_minor": 5
}
