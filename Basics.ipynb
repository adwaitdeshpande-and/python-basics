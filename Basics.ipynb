{
 "cells": [
  {
   "cell_type": "code",
   "execution_count": 1,
   "id": "4d91e319",
   "metadata": {},
   "outputs": [
    {
     "name": "stdout",
     "output_type": "stream",
     "text": [
      "Hello World\n"
     ]
    }
   ],
   "source": [
    "print(\"Hello World\")"
   ]
  },
  {
   "cell_type": "code",
   "execution_count": 4,
   "id": "4796f59e",
   "metadata": {},
   "outputs": [
    {
     "name": "stdout",
     "output_type": "stream",
     "text": [
      "Enter Data5\n",
      "<class 'str'>\n",
      "After Casting: \n",
      "<class 'int'>\n"
     ]
    }
   ],
   "source": [
    "#casting\n",
    "a = input(\"Enter Data\")\n",
    "print()\n",
    "print(type(a))\n",
    "print(\"After Casting: \")\n",
    "a = int(a)\n",
    "print(type(a))"
   ]
  },
  {
   "cell_type": "code",
   "execution_count": 6,
   "id": "65bed74f",
   "metadata": {},
   "outputs": [
    {
     "name": "stdout",
     "output_type": "stream",
     "text": [
      "hello\n"
     ]
    }
   ],
   "source": [
    "'''\n",
    "this is comment\n",
    "'''\n",
    "\"\"\"\n",
    "\n",
    "gisdhg\n",
    "\"\"\"\n",
    "print(\"hello\")"
   ]
  },
  {
   "cell_type": "code",
   "execution_count": 9,
   "id": "dd41e283",
   "metadata": {},
   "outputs": [
    {
     "name": "stdout",
     "output_type": "stream",
     "text": [
      "Hello\n",
      "\tWorld\n"
     ]
    }
   ],
   "source": [
    "string = \"Hello\\n\\tWorld\"\n",
    "print(string)"
   ]
  },
  {
   "cell_type": "code",
   "execution_count": 11,
   "id": "a9e2bd00",
   "metadata": {},
   "outputs": [
    {
     "name": "stdout",
     "output_type": "stream",
     "text": [
      "Hello \n",
      "dhfdsjghjdfjdshjodhnfuoshworld\n"
     ]
    }
   ],
   "source": [
    "strint = '''Hello \n",
    "dhfdsjghjdfjdshjodhnfuoshworld'''\n",
    "print(strint)"
   ]
  },
  {
   "cell_type": "code",
   "execution_count": 1,
   "id": "589571ae",
   "metadata": {},
   "outputs": [
    {
     "name": "stdout",
     "output_type": "stream",
     "text": [
      "1\n",
      "adwait\n",
      "awi dat\n"
     ]
    }
   ],
   "source": [
    "n = int(input())\n",
    "temp = []\n",
    "for i in range(0,n):\n",
    "    s = input()\n",
    "    temp.append(s)\n",
    "\n",
    "for i in range(0,n):\n",
    "    for j in range(0,len(temp[i]),2):\n",
    "        print(temp[i][j],end='')\n",
    "    print(end=' ')\n",
    "    for j in range(1,len(temp[i]),2):\n",
    "        print(temp[i][j],end='')\n",
    "    print()"
   ]
  },
  {
   "cell_type": "code",
   "execution_count": 14,
   "id": "ccede35f",
   "metadata": {},
   "outputs": [
    {
     "name": "stdout",
     "output_type": "stream",
     "text": [
      "1\n",
      "1\n",
      "1\n",
      "2\n",
      "[0, 0, 0]\n",
      "[0, 0, 1]\n",
      "[0, 1, 0]\n",
      "[0, 1, 1]\n",
      "[1, 0, 0]\n",
      "[1, 0, 1]\n",
      "[1, 1, 0]\n",
      "[1, 1, 1]\n"
     ]
    }
   ],
   "source": [
    "if __name__ == '__main__':\n",
    "    x = int(input())\n",
    "    y = int(input())\n",
    "    z = int(input())\n",
    "    n = int(input())\n",
    "    xx=0\n",
    "    yy=0\n",
    "    zz=0\n",
    "    a = list([xx,yy,zz])\n",
    "    if (xx+yy+zz !=n):\n",
    "        for xx in range(x+1):\n",
    "            for yy in range(y+1):\n",
    "                for zz in range(z+1):\n",
    "                    print(list([xx,yy,zz]))\n",
    "    "
   ]
  },
  {
   "cell_type": "code",
   "execution_count": 1,
   "id": "658a6e5d",
   "metadata": {},
   "outputs": [
    {
     "name": "stdout",
     "output_type": "stream",
     "text": [
      "6\n"
     ]
    }
   ],
   "source": [
    "x = 5\n",
    "x+=1\n",
    "print(x)"
   ]
  },
  {
   "cell_type": "code",
   "execution_count": 12,
   "id": "a27e99cf",
   "metadata": {},
   "outputs": [
    {
     "name": "stdout",
     "output_type": "stream",
     "text": [
      "Enter Number of Friut: 2\n",
      "Enter 1 Fruit: s\n",
      "Enter 2 Fruit: d\n",
      "0: apple\n",
      "1: banana\n",
      "2: cherry\n",
      "3: orange\n",
      "4: kiwi\n",
      "5: melon\n",
      "6: mango\n",
      "7: s\n",
      "8: d\n"
     ]
    }
   ],
   "source": [
    "fruit = [\"apple\", \"banana\", \"cherry\", \"orange\", \"kiwi\", \"melon\", \"mango\"]\n",
    "number = int(input(\"Enter Number of Friut: \"))\n",
    "for x in range(number):\n",
    "    newFruit = input(\"Enter {} Fruit: \".format(x+1))\n",
    "    thislist.append(newFruit)\n",
    "    \n",
    "for i in thislist:\n",
    "    print(\"{}: {}\".format(thislist.index(i),i))"
   ]
  },
  {
   "cell_type": "code",
   "execution_count": 17,
   "id": "245c5505",
   "metadata": {},
   "outputs": [
    {
     "ename": "TypeError",
     "evalue": "'NoneType' object is not iterable",
     "output_type": "error",
     "traceback": [
      "\u001b[1;31m---------------------------------------------------------------------------\u001b[0m",
      "\u001b[1;31mTypeError\u001b[0m                                 Traceback (most recent call last)",
      "\u001b[1;32m~\\AppData\\Local\\Temp/ipykernel_13168/3210206643.py\u001b[0m in \u001b[0;36m<module>\u001b[1;34m\u001b[0m\n\u001b[0;32m      2\u001b[0m \u001b[0mthistuple\u001b[0m \u001b[1;33m=\u001b[0m \u001b[1;33m(\u001b[0m\u001b[1;34m\"kiwi\"\u001b[0m\u001b[1;33m,\u001b[0m \u001b[1;34m\"orange\"\u001b[0m\u001b[1;33m)\u001b[0m\u001b[1;33m\u001b[0m\u001b[1;33m\u001b[0m\u001b[0m\n\u001b[0;32m      3\u001b[0m \u001b[0ma\u001b[0m \u001b[1;33m=\u001b[0m \u001b[1;33m[\u001b[0m\u001b[1;34m\"\"\u001b[0m\u001b[1;33m]\u001b[0m\u001b[1;33m\u001b[0m\u001b[1;33m\u001b[0m\u001b[0m\n\u001b[1;32m----> 4\u001b[1;33m \u001b[0ma\u001b[0m\u001b[1;33m.\u001b[0m\u001b[0mextend\u001b[0m\u001b[1;33m(\u001b[0m\u001b[0mthislist\u001b[0m\u001b[1;33m.\u001b[0m\u001b[0mextend\u001b[0m\u001b[1;33m(\u001b[0m\u001b[0mthistuple\u001b[0m\u001b[1;33m)\u001b[0m\u001b[1;33m)\u001b[0m\u001b[1;33m\u001b[0m\u001b[1;33m\u001b[0m\u001b[0m\n\u001b[0m\u001b[0;32m      5\u001b[0m \u001b[0mprint\u001b[0m\u001b[1;33m(\u001b[0m\u001b[0ma\u001b[0m\u001b[1;33m)\u001b[0m\u001b[1;33m\u001b[0m\u001b[1;33m\u001b[0m\u001b[0m\n",
      "\u001b[1;31mTypeError\u001b[0m: 'NoneType' object is not iterable"
     ]
    }
   ],
   "source": [
    "thislist = [\"apple\", \"banana\", \"cherry\"]\n",
    "thistuple = (\"kiwi\", \"orange\")\n",
    "a = [\"\"]\n",
    "a.extend(thislist.extend(thistuple))\n",
    "print(a)"
   ]
  },
  {
   "cell_type": "code",
   "execution_count": 20,
   "id": "50a7fb0b",
   "metadata": {},
   "outputs": [
    {
     "name": "stdout",
     "output_type": "stream",
     "text": [
      "['apple', 'banana']\n"
     ]
    }
   ],
   "source": [
    "thislist = [\"apple\", \"banana\", \"cherry\"]\n",
    "thislist.pop()\n",
    "print(thislist)"
   ]
  },
  {
   "cell_type": "code",
   "execution_count": 3,
   "id": "2f31ef53",
   "metadata": {},
   "outputs": [
    {
     "name": "stdout",
     "output_type": "stream",
     "text": [
      "Enter the number : 1\n",
      "Even:  [0]\n",
      "[]\n"
     ]
    }
   ],
   "source": [
    "even = []\n",
    "odd = []\n",
    "user_inp =int(input(\"Enter the number : \"))\n",
    "for x in range(0,user_inp):\n",
    "    if(x%2 ==0):\n",
    "        even.append(x)\n",
    "#         print(\"even numbers = {}\".format(x))\n",
    "    else:\n",
    "        odd.append(x)\n",
    "#         print(\"odd numbers = {}\".format(x))\n",
    "\n",
    "print(\"Even: \",even)\n",
    "print(odd)"
   ]
  },
  {
   "cell_type": "code",
   "execution_count": 5,
   "id": "efdc2671",
   "metadata": {},
   "outputs": [
    {
     "name": "stdout",
     "output_type": "stream",
     "text": [
      "Enter the number : 2\n",
      "None\n",
      "None\n",
      "Even no :  ['0']\n",
      "odd no :  ['1']\n"
     ]
    }
   ],
   "source": [
    "user_inp =int(input(\"Enter the number : \"))\n",
    "a=[]\n",
    "b=[]\n",
    "for x in range(0,user_inp+1):\n",
    "    if(x%2 ==0):\n",
    "        print(a.append(\"{}\".format(x)))\n",
    "    else:\n",
    "        print(b.append (\"{}\".format(x)))\n",
    "print(\"Even no : \",a)\n",
    "print(\"odd no : \",b)"
   ]
  },
  {
   "cell_type": "code",
   "execution_count": 9,
   "id": "7ed30f00",
   "metadata": {},
   "outputs": [
    {
     "name": "stdout",
     "output_type": "stream",
     "text": [
      "1\t2\t3\t4\t5\t6\t7\t8\t9\t10\t\n",
      "2\t4\t6\t8\t10\t12\t14\t16\t18\t20\t\n",
      "3\t6\t9\t12\t15\t18\t21\t24\t27\t30\t\n",
      "4\t8\t12\t16\t20\t24\t28\t32\t36\t40\t\n",
      "5\t10\t15\t20\t25\t30\t35\t40\t45\t50\t\n",
      "6\t12\t18\t24\t30\t36\t42\t48\t54\t60\t\n",
      "7\t14\t21\t28\t35\t42\t49\t56\t63\t70\t\n",
      "8\t16\t24\t32\t40\t48\t56\t64\t72\t80\t\n",
      "9\t18\t27\t36\t45\t54\t63\t72\t81\t90\t\n",
      "10\t20\t30\t40\t50\t60\t70\t80\t90\t100\t\n"
     ]
    }
   ],
   "source": [
    "for i in range(1, 11):\n",
    "    # nested loop\n",
    "    # to iterate from 1 to 10\n",
    "    for j in range(1, 11):\n",
    "        # print multiplication\n",
    "        print(i * j, end='\\t')\n",
    "    print()"
   ]
  },
  {
   "cell_type": "code",
   "execution_count": 7,
   "id": "526800be",
   "metadata": {},
   "outputs": [
    {
     "name": "stdout",
     "output_type": "stream",
     "text": [
      "Deshpande\n"
     ]
    }
   ],
   "source": [
    "s = 'adwait Deshpande'\n",
    "for x in s.split():\n",
    "    a = x[0][0]\n",
    "    a=a.upper()\n",
    "    stri=a+x[1:]\n",
    "    s = stri\n",
    "print(s)"
   ]
  },
  {
   "cell_type": "code",
   "execution_count": 2,
   "id": "7a5f9e97",
   "metadata": {},
   "outputs": [
    {
     "name": "stdout",
     "output_type": "stream",
     "text": [
      "Adwait Deshpande Df Sfad Sf\n"
     ]
    }
   ],
   "source": [
    "s = 'adwait deshpande df sfad sf'\n",
    "b=''\n",
    "for x in s.split():\n",
    "    a = x[0]\n",
    "    a= a.upper()\n",
    "    b += ''.join(\" \"+a+x[1:])\n",
    "    \n",
    "print(b.strip())"
   ]
  },
  {
   "cell_type": "code",
   "execution_count": 1,
   "id": "e3489d17",
   "metadata": {},
   "outputs": [
    {
     "name": "stdout",
     "output_type": "stream",
     "text": [
      "\n"
     ]
    }
   ],
   "source": [
    "# arr = map(int,input().split())\n",
    "# print(arr)\n",
    "stri = input()\n",
    "print(stri)"
   ]
  },
  {
   "cell_type": "code",
   "execution_count": null,
   "id": "7ac2eac8",
   "metadata": {},
   "outputs": [],
   "source": [
    "if __name__ == '__main__':\n",
    "    for _ in range(int(input())):\n",
    "        name = input()\n",
    "        score = float(input())\n",
    "        \n",
    "        students = list()\n",
    "        students.append([name,score])\n",
    "        \n",
    "        second_highest = sorted(list(set([marks for name, marks in students])))[1]\n",
    "        print('\\n'.join([a for a,b in sorted(students) if b == second_highest]))\n",
    "        "
   ]
  }
 ],
 "metadata": {
  "kernelspec": {
   "display_name": "Python 3.8.2 64-bit",
   "language": "python",
   "name": "python3"
  },
  "language_info": {
   "codemirror_mode": {
    "name": "ipython",
    "version": 3
   },
   "file_extension": ".py",
   "mimetype": "text/x-python",
   "name": "python",
   "nbconvert_exporter": "python",
   "pygments_lexer": "ipython3",
   "version": "3.8.2"
  },
  "vscode": {
   "interpreter": {
    "hash": "570feb405e2e27c949193ac68f46852414290d515b0ba6e5d90d076ed2284471"
   }
  }
 },
 "nbformat": 4,
 "nbformat_minor": 5
}
