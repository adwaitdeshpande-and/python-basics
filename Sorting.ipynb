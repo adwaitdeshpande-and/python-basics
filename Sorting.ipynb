{
 "cells": [
  {
   "cell_type": "code",
   "execution_count": null,
   "id": "d7e333b1",
   "metadata": {},
   "outputs": [],
   "source": [
    "\n",
    "# void bubbleSort(int arr[], int n)\n",
    "# {\n",
    "#     int i, j;\n",
    "#     for (i = 0; i < n - 1; i++)\n",
    "  \n",
    "#         // Last i elements are already \n",
    "#         // in place\n",
    "#         for (j = 0; j < n - i - 1; j++)\n",
    "#             if (arr[j] > arr[j + 1])\n",
    "#                 swap(arr[j], arr[j + 1]);\n",
    "# }\n",
    "# ********************************************************\n",
    "\n",
    "#  void bubbleSort(int arr[])\n",
    "#     {\n",
    "#         int n = arr.length;\n",
    "#         for (int i = 0; i < n - 1; i++)\n",
    "#             for (int j = 0; j < n - i - 1; j++)\n",
    "#                 if (arr[j] > arr[j + 1]) {\n",
    "#                     // swap arr[j+1] and arr[j]\n",
    "#                     int temp = arr[j];\n",
    "#                     arr[j] = arr[j + 1];\n",
    "#                     arr[j + 1] = temp;\n",
    "#                 }\n",
    "#     }\n",
    "  "
   ]
  },
  {
   "cell_type": "code",
   "execution_count": 34,
   "id": "64ca92e8",
   "metadata": {},
   "outputs": [],
   "source": [
    "def inp_array():\n",
    "    user_inp = int(input(\"Enter the no of elements to be added in the array : \"))\n",
    "\n",
    "    a = []\n",
    "    for i in range(user_inp):\n",
    "        c = int(input(\"Enter the number for sorting : \"))\n",
    "        a.append(c)\n",
    "#     print(a)\n",
    "\n",
    "    return(a)    "
   ]
  },
  {
   "cell_type": "code",
   "execution_count": 43,
   "id": "7320cee8",
   "metadata": {},
   "outputs": [],
   "source": [
    "def bs(a):\n",
    "    n = len(a)\n",
    "\n",
    "    for i in range(n):\n",
    "         for j in range(0,n-i-1):\n",
    "            if(a[j]>a[j+1]):\n",
    "                a[j],a[j+1]=a[j+1],a[j]\n",
    "    print(\"Sorted Array : \",a)\n",
    "          "
   ]
  },
  {
   "cell_type": "code",
   "execution_count": 47,
   "id": "46943082",
   "metadata": {},
   "outputs": [
    {
     "name": "stdout",
     "output_type": "stream",
     "text": [
      "    1. Bubble sort\n",
      "          0. Exit \n",
      "             \n",
      "Enter your choice1\n",
      "Enter the no of elements to be added in the array : 5\n",
      "Enter the number for sorting : 1\n",
      "Enter the number for sorting : 6\n",
      "Enter the number for sorting : 8\n",
      "Enter the number for sorting : 9\n",
      "Enter the number for sorting : 10\n",
      "[1, 6, 8, 9, 10]\n",
      "Sorted Array :  [1, 6, 8, 9, 10]\n",
      "Enter your choice0\n",
      "Exiting\n"
     ]
    }
   ],
   "source": [
    "print(\"\"\"    1. Bubble sort\n",
    "          0. Exit \n",
    "             \"\"\")\n",
    "while(True):\n",
    "    user_1 = int(input(\"Enter your choice\"))\n",
    "    \n",
    "    if(user_1 == 1):\n",
    "        bs(inp_array())\n",
    "    elif(user_1 == 0):\n",
    "        print(\"Exiting\")\n",
    "        break\n",
    "    else:\n",
    "        print('Invalid intput')"
   ]
  },
  {
   "cell_type": "code",
   "execution_count": null,
   "id": "c69199ed",
   "metadata": {},
   "outputs": [],
   "source": [
    "def ss(array):\n",
    "    size = len(array)\n",
    "    for step in range(size):\n",
    "        min_idx = step\n",
    "\n",
    "        for i in range(step + 1, size):\n",
    "         \n",
    "            # to sort in descending order, change > to < in this line\n",
    "            # select the minimum element in each loop\n",
    "            if array[i] < array[min_idx]:\n",
    "                min_idx = i\n",
    "         \n",
    "        # put min at the correct position\n",
    "        (array[step], array[min_idx]) = (array[min_idx], array[step])"
   ]
  }
 ],
 "metadata": {
  "kernelspec": {
   "display_name": "Python 3 (ipykernel)",
   "language": "python",
   "name": "python3"
  },
  "language_info": {
   "codemirror_mode": {
    "name": "ipython",
    "version": 3
   },
   "file_extension": ".py",
   "mimetype": "text/x-python",
   "name": "python",
   "nbconvert_exporter": "python",
   "pygments_lexer": "ipython3",
   "version": "3.9.13"
  }
 },
 "nbformat": 4,
 "nbformat_minor": 5
}
